{
 "cells": [
  {
   "cell_type": "markdown",
   "id": "fffb018a-4ed6-4afd-a41e-47762cd50553",
   "metadata": {},
   "source": [
    "## Option Pricing using the Black-Scholes-Merton Model\n",
    "\n",
    "In finance, the Black-Scholes-Merton model is one the most widely used methods for pricing options. It calculates the theoretical value of an option based on five key variables:\n",
    "\n",
    "    * Underlying Price (S)\n",
    "    * Strike Price (K)\n",
    "    * Time to Expiration (T)\n",
    "    * Risk Free Rate (r)\n",
    "    * Volatility (σ)"
   ]
  },
  {
   "cell_type": "markdown",
   "id": "b53af5f3-9e6e-4694-9ba0-963a3f4970b0",
   "metadata": {},
   "source": [
    "### Import necessary libraries"
   ]
  },
  {
   "cell_type": "code",
   "execution_count": 21,
   "id": "c85e6ba7-8d4d-45f3-9561-65b592595473",
   "metadata": {},
   "outputs": [],
   "source": [
    "import math\n",
    "from scipy.stats import norm"
   ]
  },
  {
   "cell_type": "markdown",
   "id": "f4a293b0-5bdd-4219-81ec-4f478808b9c4",
   "metadata": {},
   "source": [
    "### Define the variables"
   ]
  },
  {
   "cell_type": "code",
   "execution_count": 22,
   "id": "8304b721-4ac6-487d-9898-67929735bab1",
   "metadata": {},
   "outputs": [],
   "source": [
    "# Define the variables\n",
    "S = 45 # underlying price\n",
    "K = 40 # strike price\n",
    "T = 2 # time to expiration\n",
    "r = 0.1 # risk free rate\n",
    "vol = 0.1 # volatility (σ)"
   ]
  },
  {
   "cell_type": "markdown",
   "id": "99ba6eb3-4978-4a14-9a47-107e5306ca98",
   "metadata": {},
   "source": [
    "### Calculate d1\n",
    "\n",
    "The formula for d1 in the Black-Scholes-Merton model is:\n",
    "\n",
    "                                                    d1 = ( ln(S/K) + (r + (1/2)*σ^2)*T ) / σ*sqrt(T)"
   ]
  },
  {
   "cell_type": "code",
   "execution_count": 23,
   "id": "cc89a0bd-73fb-415d-8f6a-3fd774843ddb",
   "metadata": {},
   "outputs": [],
   "source": [
    "d1 = (math.log(S/K) + (r + 0.5 * vol**2) * T) / (vol * math.sqrt(T))"
   ]
  },
  {
   "cell_type": "markdown",
   "id": "d5c0da68-b1c0-4649-87a2-7a44c1163cae",
   "metadata": {},
   "source": [
    "### Calculate d2\n",
    "\n",
    "The formula for d2 is simply:\n",
    "\n",
    "                                                d2 = d1 - σ * sqrt(T)"
   ]
  },
  {
   "cell_type": "code",
   "execution_count": 24,
   "id": "6b7658c2-5a81-4d29-bdcf-a76fb7585651",
   "metadata": {},
   "outputs": [],
   "source": [
    "d2 = d1 - (vol * math.sqrt(T))"
   ]
  },
  {
   "cell_type": "markdown",
   "id": "8e4977d7-51bb-4fd9-a853-e2c7e404c1ed",
   "metadata": {},
   "source": [
    "### Calculate Call Option Price\n",
    "\n",
    "The call option price (C) in the Black-Scholes-Merton model is calculated using the formula:\n",
    "\n",
    "                                                C = S * N(d1) - K * exp(-r * T) * N(d2)"
   ]
  },
  {
   "cell_type": "code",
   "execution_count": 25,
   "id": "3b0c18d8-7ec9-41e9-90a2-439b14ab6a73",
   "metadata": {},
   "outputs": [],
   "source": [
    "C = S * norm.cdf(d1) - K * math.exp(-r * T) * norm.cdf(d2)"
   ]
  },
  {
   "cell_type": "markdown",
   "id": "039c9a49-c1d2-4e15-a23d-285b569bb216",
   "metadata": {},
   "source": [
    "### Calculate Put Option Price\n",
    "\n",
    "Finally, the put option price (P) is calculated as:\n",
    "\n",
    "                                            P = K * exp(-rT) * N(-d2) - S*N(-d1)"
   ]
  },
  {
   "cell_type": "code",
   "execution_count": 26,
   "id": "5ab46c35-9279-41d1-80f9-e72218f4e425",
   "metadata": {},
   "outputs": [],
   "source": [
    "P = K * math.exp(-r * T) * norm.cdf(-d2) - S * norm.cdf(-d1)"
   ]
  },
  {
   "cell_type": "markdown",
   "id": "3b6b3817-eb4f-4420-846a-93162a91661a",
   "metadata": {},
   "source": [
    "### Print the results"
   ]
  },
  {
   "cell_type": "code",
   "execution_count": 27,
   "id": "72ed9288-838a-452e-9b01-73b7e7ab0b16",
   "metadata": {},
   "outputs": [
    {
     "name": "stdout",
     "output_type": "stream",
     "text": [
      "The value of d1 is: 2.3178\n",
      "The value of d2 is: 2.1764\n",
      "The price of the call option is: $ 12.27\n",
      "The price of the put option is: $ 0.02\n"
     ]
    }
   ],
   "source": [
    "print(\"The value of d1 is:\", round(d1, 4))\n",
    "print(\"The value of d2 is:\", round(d2, 4))\n",
    "print(\"The price of the call option is: $\", round(C, 2))\n",
    "print(\"The price of the put option is: $\", round(P, 2))"
   ]
  },
  {
   "cell_type": "code",
   "execution_count": null,
   "id": "e0aa07fa-0768-4f4d-adaf-a1a3cbc4dea7",
   "metadata": {},
   "outputs": [],
   "source": []
  },
  {
   "cell_type": "code",
   "execution_count": null,
   "id": "633c601e-a218-4e0a-abce-4fe7f63d94ea",
   "metadata": {},
   "outputs": [],
   "source": []
  }
 ],
 "metadata": {
  "kernelspec": {
   "display_name": "Python 3 (ipykernel)",
   "language": "python",
   "name": "python3"
  },
  "language_info": {
   "codemirror_mode": {
    "name": "ipython",
    "version": 3
   },
   "file_extension": ".py",
   "mimetype": "text/x-python",
   "name": "python",
   "nbconvert_exporter": "python",
   "pygments_lexer": "ipython3",
   "version": "3.10.12"
  }
 },
 "nbformat": 4,
 "nbformat_minor": 5
}
