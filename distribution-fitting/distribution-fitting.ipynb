{
 "cells": [
  {
   "cell_type": "markdown",
   "id": "73c80531-c228-4aa0-8132-8e11d7963c2c",
   "metadata": {},
   "source": [
    "### Distribution Fitting: Generalized Error Distribution"
   ]
  },
  {
   "cell_type": "code",
   "execution_count": 20,
   "id": "9886c481-5bf8-4175-9e99-3c06f347229f",
   "metadata": {},
   "outputs": [],
   "source": [
    "# import packages\n",
    "import numpy as np\n",
    "import pandas as pd\n",
    "import scipy.special as spsp\n",
    "import scipy.optimize as spop\n",
    "import yfinance as yf\n",
    "import matplotlib.pyplot as plt"
   ]
  },
  {
   "cell_type": "markdown",
   "id": "8d1b27a5-f126-49c8-a865-4f89ddb0e283",
   "metadata": {},
   "source": [
    "generalized error (generalized normal) distribution\n",
    "\n",
    "probability density function: f(x) = shape/(2*scale*gamma(1/shape))*e^(-(abs((x-loc)/scale))^shape)\n",
    "\n",
    "cumulative distribution function: F(x) = 1/2 + sign(x - loc)/2*gammainc(1/shape, (abs(x-loc)/scale)^shape)\n",
    "\n",
    "if shape = 1: Laplace distribution, if shape=2: normal distribution"
   ]
  },
  {
   "cell_type": "code",
   "execution_count": 21,
   "id": "3b66d367-a077-465b-9d98-21fe756bdf14",
   "metadata": {},
   "outputs": [],
   "source": [
    "# specify the sample\n",
    "ticker = '^FTSE'\n",
    "start_date = '2019-05-25'\n",
    "end_date = '2024-05-25'"
   ]
  },
  {
   "cell_type": "code",
   "execution_count": 22,
   "id": "8d57dc2c-3496-4ad6-808d-e8ae2e8f3479",
   "metadata": {},
   "outputs": [
    {
     "name": "stderr",
     "output_type": "stream",
     "text": [
      "[*********************100%%**********************]  1 of 1 completed\n"
     ]
    }
   ],
   "source": [
    "# retrieve data\n",
    "prices = yf.download(ticker, start_date, end_date)['Close']"
   ]
  },
  {
   "cell_type": "code",
   "execution_count": 23,
   "id": "b9f5727b-a04d-4037-ae33-4dbef7a4b938",
   "metadata": {},
   "outputs": [
    {
     "data": {
      "text/plain": [
       "Date\n",
       "2019-05-28    7269.000000\n",
       "2019-05-29    7185.299805\n",
       "2019-05-30    7218.200195\n",
       "2019-05-31    7161.700195\n",
       "2019-06-03    7184.799805\n",
       "                 ...     \n",
       "2024-05-20    8424.200195\n",
       "2024-05-21    8416.500000\n",
       "2024-05-22    8370.299805\n",
       "2024-05-23    8339.200195\n",
       "2024-05-24    8317.599609\n",
       "Name: Close, Length: 1261, dtype: float64"
      ]
     },
     "execution_count": 23,
     "metadata": {},
     "output_type": "execute_result"
    }
   ],
   "source": [
    "prices"
   ]
  },
  {
   "cell_type": "code",
   "execution_count": 24,
   "id": "5a9ca810-1315-46e1-995e-719dfc1867a0",
   "metadata": {},
   "outputs": [
    {
     "data": {
      "text/plain": [
       "array([-0.10873819, -0.07687313, -0.05251309, ...,  0.04447304,\n",
       "        0.04675124,  0.09053047])"
      ]
     },
     "execution_count": 24,
     "metadata": {},
     "output_type": "execute_result"
    }
   ],
   "source": [
    "# calculate and sort returns\n",
    "returns = np.array(prices[1:])/np.array(prices[:-1]) - 1\n",
    "returns = np.sort(returns)\n",
    "returns"
   ]
  },
  {
   "cell_type": "code",
   "execution_count": 25,
   "id": "d96dcae6-850a-4d62-b3f4-07a49739e32d",
   "metadata": {},
   "outputs": [],
   "source": [
    "# construct the empirical distribution function\n",
    "edf = np.arange(1, len(returns)+1)/len(returns)"
   ]
  },
  {
   "cell_type": "code",
   "execution_count": 26,
   "id": "ca7a6f31-1ad7-425e-9ed8-201f82dd5783",
   "metadata": {},
   "outputs": [
    {
     "data": {
      "image/png": "[encoded data removed]",
      "text/plain": [
       "<Figure size 640x480 with 1 Axes>"
      ]
     },
     "metadata": {},
     "output_type": "display_data"
    }
   ],
   "source": [
    "plt.plot(returns, edf)\n",
    "plt.show()"
   ]
  },
  {
   "cell_type": "code",
   "execution_count": 27,
   "id": "bef9c2c1-9a31-4d65-9eb6-d366e06ef27e",
   "metadata": {},
   "outputs": [],
   "source": [
    "#calculate mean and standard deviation\n",
    "mean = np.average(returns)\n",
    "std = np.std(returns)"
   ]
  },
  {
   "cell_type": "code",
   "execution_count": 28,
   "id": "8c5e80bc-3cdb-490c-af2e-1cef2a763e81",
   "metadata": {},
   "outputs": [],
   "source": [
    "# optimize generalized error distribution parameters using maximum likelihood estimation\n",
    "def ged_optimization(k):\n",
    "    k[1] = abs(k[1])\n",
    "    k[2] = abs(k[2])\n",
    "    pdf = k[2]/(2*k[1]*spsp.gamma(1/k[2]))*np.exp(-(abs(returns - k[0])/k[1])**k[2])\n",
    "    return -np.sum(np.log(pdf))"
   ]
  },
  {
   "cell_type": "code",
   "execution_count": 29,
   "id": "935bba99-2576-496f-b574-250756d6bc58",
   "metadata": {},
   "outputs": [
    {
     "name": "stdout",
     "output_type": "stream",
     "text": [
      "       message: Optimization terminated successfully.\n",
      "       success: True\n",
      "        status: 0\n",
      "           fun: -4091.8184884944512\n",
      "             x: [ 6.902e-04  5.619e-03  8.595e-01]\n",
      "           nit: 105\n",
      "          nfev: 180\n",
      " final_simplex: (array([[ 6.902e-04,  5.619e-03,  8.595e-01],\n",
      "                       [ 6.902e-04,  5.619e-03,  8.595e-01],\n",
      "                       [ 6.902e-04,  5.618e-03,  8.594e-01],\n",
      "                       [ 6.902e-04,  5.619e-03,  8.595e-01]]), array([-4.092e+03, -4.092e+03, -4.092e+03, -4.092e+03]))\n"
     ]
    }
   ],
   "source": [
    "res = spop.minimize(ged_optimization, [mean, std, 2], method='Nelder-Mead')\n",
    "print(res)"
   ]
  },
  {
   "cell_type": "code",
   "execution_count": 30,
   "id": "8e89abc4-c165-4207-b001-d3ad331ec23d",
   "metadata": {},
   "outputs": [
    {
     "name": "stdout",
     "output_type": "stream",
     "text": [
      "The shape parameter of the best fitting distibution equals 0.8595\n"
     ]
    }
   ],
   "source": [
    "# retrieve optimal distribution parameters\n",
    "ged_loc = res.x[0]\n",
    "ged_scale = abs(res.x[1])\n",
    "ged_shape = abs(res.x[2])\n",
    "print(\"The shape parameter of the best fitting distibution equals \"+ str(round(ged_shape, 4)))"
   ]
  },
  {
   "cell_type": "code",
   "execution_count": 31,
   "id": "acd29ce6-fa27-48c4-b73c-c1a8da929fa4",
   "metadata": {},
   "outputs": [],
   "source": [
    "# Calculate the cumulative distribution function \n",
    "cdf = 1/2 + np.sign(returns - ged_loc)/2*spsp.gammainc(1/ged_shape, (abs(returns - ged_loc)/ged_scale)**ged_shape)"
   ]
  },
  {
   "cell_type": "code",
   "execution_count": 32,
   "id": "1e166dbb-a897-4fbd-bc05-8aa9c407bb8f",
   "metadata": {},
   "outputs": [
    {
     "data": {
      "image/png": "[encoded data removed]",
      "text/plain": [
       "<Figure size 640x480 with 1 Axes>"
      ]
     },
     "metadata": {},
     "output_type": "display_data"
    }
   ],
   "source": [
    "# visualize the distribution functions\n",
    "plt.plot(returns, edf)\n",
    "plt.plot(returns, cdf)\n",
    "plt.show()"
   ]
  },
  {
   "cell_type": "code",
   "execution_count": 33,
   "id": "e71f96b6-dd7b-4dfc-99ff-5cb1d919dd7f",
   "metadata": {},
   "outputs": [
    {
     "name": "stdout",
     "output_type": "stream",
     "text": [
      "p-value of the Kolmogorov-Smirnov Test equals 52.417%\n",
      "The distribution fits the data\n"
     ]
    }
   ],
   "source": [
    "# evaluate the goodness of fit using Kolmogorov Smirnov Test\n",
    "supremum = max(abs(edf - cdf))\n",
    "p_value = np.exp(-supremum**2*len(returns))\n",
    "print('p-value of the Kolmogorov-Smirnov Test equals ' + str(round(p_value*100, 4))+'%')\n",
    "if p_value < 0.1:\n",
    "    print(\"The distribution does not fit the data\")\n",
    "else:\n",
    "    print(\"The distribution fits the data\")"
   ]
  },
  {
   "cell_type": "code",
   "execution_count": null,
   "id": "83bdfebb-436c-42e9-9fa2-461ea135c1b1",
   "metadata": {},
   "outputs": [],
   "source": []
  },
  {
   "cell_type": "code",
   "execution_count": null,
   "id": "564aae87-d98e-4166-80c1-42c7c6e95146",
   "metadata": {},
   "outputs": [],
   "source": []
  }
 ],
 "metadata": {
  "kernelspec": {
   "display_name": "Python 3 (ipykernel)",
   "language": "python",
   "name": "python3"
  },
  "language_info": {
   "codemirror_mode": {
    "name": "ipython",
    "version": 3
   },
   "file_extension": ".py",
   "mimetype": "text/x-python",
   "name": "python",
   "nbconvert_exporter": "python",
   "pygments_lexer": "ipython3",
   "version": "3.10.12"
  }
 },
 "nbformat": 4,
 "nbformat_minor": 5
}
